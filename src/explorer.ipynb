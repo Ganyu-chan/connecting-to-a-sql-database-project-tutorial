{
 "cells": [
  {
   "cell_type": "markdown",
   "metadata": {},
   "source": [
    "## Primera parte"
   ]
  },
  {
   "cell_type": "code",
   "execution_count": 59,
   "metadata": {},
   "outputs": [
    {
     "name": "stdout",
     "output_type": "stream",
     "text": [
      "Starting the connection...\n",
      "Connected successfully!\n"
     ]
    }
   ],
   "source": [
    "import os\n",
    "import pandas as pd\n",
    "from sqlalchemy import create_engine, text\n",
    "from dotenv import load_dotenv\n",
    "\n",
    "# Load environment variables\n",
    "\n",
    "# 1) Connect to the database with SQLAlchemy\n",
    "def connect():\n",
    "    global engine\n",
    "    try:\n",
    "        connection_string = f\"postgresql://{os.getenv('DB_USER')}:{os.getenv('DB_PASSWORD')}@{os.getenv('DB_HOST')}/{os.getenv('DB_NAME')}\"\n",
    "        print(\"Starting the connection...\")\n",
    "        engine = create_engine(connection_string, isolation_level=\"AUTOCOMMIT\")\n",
    "        engine.connect()\n",
    "        print(\"Connected successfully!\")\n",
    "        return engine\n",
    "    except Exception as e:\n",
    "        print(f\"Error connecting to the database: {e}\")\n",
    "        return None\n",
    "engine = connect()\n",
    "\n",
    "if engine is None:\n",
    "    exit() "
   ]
  },
  {
   "cell_type": "markdown",
   "metadata": {},
   "source": [
    "## Segunda parte"
   ]
  },
  {
   "cell_type": "code",
   "execution_count": 60,
   "metadata": {},
   "outputs": [],
   "source": [
    "# inserta la informacion de \"create.sql\" directamente desde el archivo\n",
    "with engine.connect() as connection:\n",
    "    with open (\"/workspaces/connecting-to-a-sql-database-project-tutorial/src/sql/create.sql\") as file:\n",
    "        query = text(file.read())\n",
    "        connection.execute(query)"
   ]
  },
  {
   "cell_type": "markdown",
   "metadata": {},
   "source": [
    "## Tercera parte"
   ]
  },
  {
   "cell_type": "code",
   "execution_count": 61,
   "metadata": {},
   "outputs": [],
   "source": [
    "# Inserta la informacion de \"insert.sql\" directamente\n",
    "with engine.connect() as connection:\n",
    "    with open (\"/workspaces/connecting-to-a-sql-database-project-tutorial/src/sql/insert.sql\") as file1:\n",
    "        query1 = text(file1.read())\n",
    "        connection.execute(query1)"
   ]
  },
  {
   "cell_type": "markdown",
   "metadata": {},
   "source": [
    "## Cuarta Parte"
   ]
  },
  {
   "cell_type": "code",
   "execution_count": 62,
   "metadata": {},
   "outputs": [
    {
     "name": "stdout",
     "output_type": "stream",
     "text": [
      "   publisher_id             name\n",
      "0             1   O Reilly Media\n",
      "1             2     A Book Apart\n",
      "2             3       A K PETERS\n",
      "3             4   Academic Press\n",
      "4             5   Addison Wesley\n",
      "5             6  Albert&Sweigart\n",
      "6             7  Alfred A. Knopf\n",
      "   author_id first_name middle_name  last_name\n",
      "0          1    Merritt        None       Eric\n",
      "1          2      Linda        None        Mui\n",
      "2          3     Alecos        None  Papadatos\n",
      "3          4    Anthony        None   Molinaro\n",
      "4          5      David        None     Cronin\n",
      "5          6    Richard        None       Blum\n",
      "6          7      Yuval        Noah     Harari\n",
      "7          8       Paul        None     Albitz\n",
      "   book_id                                              title  total_pages  \\\n",
      "0        1        Lean Software Development: An Agile Toolkit          240   \n",
      "1        2                  Facing the Intelligence Explosion           91   \n",
      "2        3                                    Scala in Action          419   \n",
      "3        4  Patterns of Software: Tales from the Software ...          256   \n",
      "4        5                                    Anatomy Of LISP          446   \n",
      "5        6               Computing machinery and intelligence           24   \n",
      "6        7                       XML: Visual QuickStart Guide          269   \n",
      "7        8                                       SQL Cookbook          595   \n",
      "8        9  The Apollo Guidance Computer: Architecture And...          439   \n",
      "9       10  Minds and Computers: An Introduction to the Ph...          222   \n",
      "\n",
      "   rating           isbn published_date  publisher_id  \n",
      "0    4.17  9780320000000     2003-05-18             5  \n",
      "1    3.87           None     2013-02-01             7  \n",
      "2    3.74  9781940000000     2013-04-10             1  \n",
      "3    3.84  9780200000000     1996-08-15             1  \n",
      "4    4.43  9780070000000     1978-01-01             3  \n",
      "5    4.17           None     2009-03-22             4  \n",
      "6    3.66  9780320000000     2009-01-01             5  \n",
      "7    3.95  9780600000000     2005-12-01             7  \n",
      "8    4.29  9781440000000     2010-07-01             6  \n",
      "9    3.54  9780750000000     2007-02-13             7  \n",
      "   book_id  author_id\n",
      "0        1          1\n",
      "1        2          8\n",
      "2        3          7\n",
      "3        4          6\n",
      "4        5          5\n",
      "5        6          4\n",
      "6        7          3\n",
      "7        8          2\n",
      "8        9          4\n",
      "9       10          1\n"
     ]
    }
   ],
   "source": [
    "df = pd.read_sql(\"SELECT * FROM publishers;\", engine)\n",
    "df1 = pd.read_sql(\"Select * from authors;\", engine)\n",
    "df2 = pd.read_sql(\"Select * from books;\", engine)\n",
    "df3 = pd.read_sql(\"Select * from book_authors;\", engine)\n",
    "print(df)\n",
    "print(df1)\n",
    "print(df2)\n",
    "print(df3)"
   ]
  },
  {
   "cell_type": "code",
   "execution_count": 63,
   "metadata": {},
   "outputs": [],
   "source": [
    "with engine.connect() as connection:\n",
    "    connection.execute(text(\"\"\"\n",
    "DROP TABLE IF EXISTS publishers CASCADE;\n",
    "DROP TABLE IF EXISTS authors CASCADE;\n",
    "DROP TABLE IF EXISTS books CASCADE;\n",
    "DROP TABLE IF EXISTS book_authors CASCADE;\n",
    "\"\"\"))"
   ]
  }
 ],
 "metadata": {
  "kernelspec": {
   "display_name": "Python 3",
   "language": "python",
   "name": "python3"
  },
  "language_info": {
   "codemirror_mode": {
    "name": "ipython",
    "version": 3
   },
   "file_extension": ".py",
   "mimetype": "text/x-python",
   "name": "python",
   "nbconvert_exporter": "python",
   "pygments_lexer": "ipython3",
   "version": "3.12.9"
  }
 },
 "nbformat": 4,
 "nbformat_minor": 2
}
